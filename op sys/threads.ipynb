{
 "cells": [
  {
   "cell_type": "code",
   "execution_count": null,
   "metadata": {},
   "outputs": [
    {
     "name": "stdout",
     "output_type": "stream",
     "text": [
      "Server is listening...\n"
     ]
    }
   ],
   "source": [
    "import socket\n",
    "HOST = '127.0.0.1' # Localhost – Server’s IP address\n",
    "PORT = 10675 # Non-privileged port – Server’s port number\n",
    "# Create a socket and bind it to an address\n",
    "with socket.socket(socket.AF_INET, socket.SOCK_STREAM) as s:\n",
    "    s.bind((HOST, PORT)) # Bind to host and port\n",
    "    s.listen() # Listen for incoming connections\n",
    "    print(\"Server is listening...\")\n",
    "    conn, addr = s.accept() # Accept a client connection\n",
    "    with conn:\n",
    "        print(f\"Connected by {addr}\")\n",
    "        while True:\n",
    "            data = conn.recv(1024) # Receive data from the client\n",
    "            if not data:\n",
    "                break\n",
    "            conn.sendall(data) # Echo the received data back to the client"
   ]
  },
  {
   "cell_type": "code",
   "execution_count": null,
   "metadata": {},
   "outputs": [],
   "source": [
    "import socket\n",
    "# Create a TCP client socket\n",
    "with socket.socket(socket.AF_INET, socket.SOCK_STREAM) as client_socket:\n",
    "    client_socket.connect(('127.0.0.1', 12345))\n",
    "    print(\"Client Console:\\nConnected to the server.\")\n",
    "    while True:\n",
    "        # Send message to the server\n",
    "        client_message = input(\"You: \")\n",
    "        client_socket.send(client_message.encode('utf-8'))\n",
    "        if client_message.lower() == \"exit\": # Exit if the client sends \"exit\"\n",
    "            print(\"Disconnected from the server.\")\n",
    "            break\n",
    "        # Receive response from the server\n",
    "        server_message = client_socket.recv(1024).decode('utf-8')\n",
    "        print(f\"Server: {server_message}\")\n",
    "        if server_message.lower() == \"exit\": # Exit if the server sends \"exit\"\n",
    "            print(\"Disconnected from the server.\")\n",
    "            break"
   ]
  },
  {
   "cell_type": "code",
   "execution_count": 4,
   "metadata": {},
   "outputs": [
    {
     "ename": "ConnectionRefusedError",
     "evalue": "[WinError 10061] No connection could be made because the target machine actively refused it",
     "output_type": "error",
     "traceback": [
      "\u001b[1;31m---------------------------------------------------------------------------\u001b[0m",
      "\u001b[1;31mConnectionRefusedError\u001b[0m                    Traceback (most recent call last)",
      "Cell \u001b[1;32mIn[4], line 6\u001b[0m\n\u001b[0;32m      4\u001b[0m \u001b[38;5;66;03m# Create a socket and connect to the server\u001b[39;00m\n\u001b[0;32m      5\u001b[0m \u001b[38;5;28;01mwith\u001b[39;00m socket\u001b[38;5;241m.\u001b[39msocket(socket\u001b[38;5;241m.\u001b[39mAF_INET, socket\u001b[38;5;241m.\u001b[39mSOCK_STREAM) \u001b[38;5;28;01mas\u001b[39;00m s:\n\u001b[1;32m----> 6\u001b[0m     \u001b[43ms\u001b[49m\u001b[38;5;241;43m.\u001b[39;49m\u001b[43mconnect\u001b[49m\u001b[43m(\u001b[49m\u001b[43m(\u001b[49m\u001b[43mHOST\u001b[49m\u001b[43m,\u001b[49m\u001b[43m \u001b[49m\u001b[43mPORT\u001b[49m\u001b[43m)\u001b[49m\u001b[43m)\u001b[49m \u001b[38;5;66;03m# Connect to the server\u001b[39;00m\n\u001b[0;32m      7\u001b[0m     s\u001b[38;5;241m.\u001b[39msendall(\u001b[38;5;124mb\u001b[39m\u001b[38;5;124m'\u001b[39m\u001b[38;5;124mHello, world\u001b[39m\u001b[38;5;124m'\u001b[39m) \u001b[38;5;66;03m# Send a message (in bytes)\u001b[39;00m\n\u001b[0;32m      8\u001b[0m     data \u001b[38;5;241m=\u001b[39m s\u001b[38;5;241m.\u001b[39mrecv(\u001b[38;5;241m1024\u001b[39m) \u001b[38;5;66;03m# Receive the server's response\u001b[39;00m\n",
      "\u001b[1;31mConnectionRefusedError\u001b[0m: [WinError 10061] No connection could be made because the target machine actively refused it"
     ]
    }
   ],
   "source": [
    "import socket\n",
    "HOST = '127.0.0.1' # Server's IP address\n",
    "PORT = 10675 # Server's port number\n",
    "# Create a socket and connect to the server\n",
    "with socket.socket(socket.AF_INET, socket.SOCK_STREAM) as s:\n",
    "    s.connect((HOST, PORT)) # Connect to the server\n",
    "    s.sendall(b'Hello, world') # Send a message (in bytes)\n",
    "    data = s.recv(1024) # Receive the server's response\n",
    "    print(f\"Received: {data.decode()}\") # Convert bytes to string and display"
   ]
  },
  {
   "cell_type": "code",
   "execution_count": 7,
   "metadata": {},
   "outputs": [
    {
     "name": "stdout",
     "output_type": "stream",
     "text": [
      "Client Console:\n",
      "Connected to the server.\n",
      "Server: extisadaad \n"
     ]
    },
    {
     "ename": "ConnectionResetError",
     "evalue": "[WinError 10054] An existing connection was forcibly closed by the remote host",
     "output_type": "error",
     "traceback": [
      "\u001b[1;31m---------------------------------------------------------------------------\u001b[0m",
      "\u001b[1;31mConnectionResetError\u001b[0m                      Traceback (most recent call last)",
      "Cell \u001b[1;32mIn[7], line 9\u001b[0m\n\u001b[0;32m      6\u001b[0m \u001b[38;5;28;01mwhile\u001b[39;00m \u001b[38;5;28;01mTrue\u001b[39;00m:\n\u001b[0;32m      7\u001b[0m     \u001b[38;5;66;03m# Send message to the server\u001b[39;00m\n\u001b[0;32m      8\u001b[0m     client_message \u001b[38;5;241m=\u001b[39m \u001b[38;5;28minput\u001b[39m(\u001b[38;5;124m\"\u001b[39m\u001b[38;5;124mYou: \u001b[39m\u001b[38;5;124m\"\u001b[39m)\n\u001b[1;32m----> 9\u001b[0m     \u001b[43mclient_socket\u001b[49m\u001b[38;5;241;43m.\u001b[39;49m\u001b[43msend\u001b[49m\u001b[43m(\u001b[49m\u001b[43mclient_message\u001b[49m\u001b[38;5;241;43m.\u001b[39;49m\u001b[43mencode\u001b[49m\u001b[43m(\u001b[49m\u001b[38;5;124;43m'\u001b[39;49m\u001b[38;5;124;43mutf-8\u001b[39;49m\u001b[38;5;124;43m'\u001b[39;49m\u001b[43m)\u001b[49m\u001b[43m)\u001b[49m\n\u001b[0;32m     10\u001b[0m     \u001b[38;5;28;01mif\u001b[39;00m client_message\u001b[38;5;241m.\u001b[39mlower() \u001b[38;5;241m==\u001b[39m \u001b[38;5;124m\"\u001b[39m\u001b[38;5;124mexit\u001b[39m\u001b[38;5;124m\"\u001b[39m: \u001b[38;5;66;03m# Exit if the client sends \"exit\"\u001b[39;00m\n\u001b[0;32m     11\u001b[0m         \u001b[38;5;28mprint\u001b[39m(\u001b[38;5;124m\"\u001b[39m\u001b[38;5;124mDisconnected from the server.\u001b[39m\u001b[38;5;124m\"\u001b[39m)\n",
      "\u001b[1;31mConnectionResetError\u001b[0m: [WinError 10054] An existing connection was forcibly closed by the remote host"
     ]
    }
   ],
   "source": [
    "import socket\n",
    "# Create a TCP client socket\n",
    "with socket.socket(socket.AF_INET, socket.SOCK_STREAM) as client_socket:\n",
    "    client_socket.connect(('127.0.0.1', 12345))\n",
    "    print(\"Client Console:\\nConnected to the server.\")\n",
    "    while True:\n",
    "        # Send message to the server\n",
    "        client_message = input(\"You: \")\n",
    "        client_socket.send(client_message.encode('utf-8'))\n",
    "        if client_message.lower() == \"exit\": # Exit if the client sends \"exit\"\n",
    "            print(\"Disconnected from the server.\")\n",
    "            break\n",
    "        # Receive response from the server\n",
    "        server_message = client_socket.recv(1024).decode('utf-8')\n",
    "        print(f\"Server: {server_message}\")\n",
    "        if server_message.lower() == \"exit\": # Exit if the server sends \"exit\"\n",
    "            print(\"Disconnected from the server.\")\n",
    "            break"
   ]
  }
 ],
 "metadata": {
  "kernelspec": {
   "display_name": "Python 3",
   "language": "python",
   "name": "python3"
  },
  "language_info": {
   "codemirror_mode": {
    "name": "ipython",
    "version": 3
   },
   "file_extension": ".py",
   "mimetype": "text/x-python",
   "name": "python",
   "nbconvert_exporter": "python",
   "pygments_lexer": "ipython3",
   "version": "3.11.5"
  }
 },
 "nbformat": 4,
 "nbformat_minor": 2
}
