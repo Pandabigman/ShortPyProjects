{
 "cells": [
  {
   "cell_type": "markdown",
   "metadata": {},
   "source": [
    "\n",
    "# BS4 TRIALS\n",
    "USING LOCAL **CSV** FILE"
   ]
  },
  {
   "cell_type": "code",
   "execution_count": 1,
   "metadata": {},
   "outputs": [
    {
     "name": "stdout",
     "output_type": "stream",
     "text": [
      "['2005 (02 reg)', 'Hatchback', '85,000 miles', 'Manual', '1.5L', '123 bhp', 'Petrol']\n"
     ]
    }
   ],
   "source": [
    "from bs4 import BeautifulSoup\n",
    "try:\n",
    "    # fhand = open('example.html')\n",
    "    html = '''<ul class=\"listing-key-specs \">\n",
    "   <li>2005 (02 reg)</li>\n",
    "   <li>Hatchback</li>\n",
    "   <li>85,000 miles</li>\n",
    "   <li>Manual</li>\n",
    "   <li>1.5L</li>\n",
    "   <li>123 bhp</li>\n",
    "   <li>Petrol</li>\n",
    " </ul>'''\n",
    "    soup = BeautifulSoup(html, 'html.parser')\n",
    "    car_details = soup.find('ul', class_='listing-key-specs')\n",
    "    split_details = list(car_details.stripped_strings)\n",
    "    print(split_details)\n",
    "except:\n",
    "    print('File Not Found')\n"
   ]
  },
  {
   "cell_type": "code",
   "execution_count": 2,
   "metadata": {},
   "outputs": [
    {
     "ename": "SyntaxError",
     "evalue": "invalid character '’' (U+2019) (1138526265.py, line 3)",
     "output_type": "error",
     "traceback": [
      "\u001b[1;36m  Cell \u001b[1;32mIn[2], line 3\u001b[1;36m\u001b[0m\n\u001b[1;33m    soup = BeautifulSoup(_______, ’html.parser’)\u001b[0m\n\u001b[1;37m                                  ^\u001b[0m\n\u001b[1;31mSyntaxError\u001b[0m\u001b[1;31m:\u001b[0m invalid character '’' (U+2019)\n"
     ]
    }
   ],
   "source": [
    "from bs4 import BeautifulSoup\n",
    "\n",
    "#soup = BeautifulSoup(_______, ’html.parser’)\n",
    "item = soup.find(class_='Supermarkets')\n",
    "list_items = item.find_all('a')\n",
    "for each in list_items:\n",
    "    print(each.string)"
   ]
  },
  {
   "cell_type": "code",
   "execution_count": null,
   "metadata": {},
   "outputs": [],
   "source": []
  }
 ],
 "metadata": {
  "kernelspec": {
   "display_name": "Python 3",
   "language": "python",
   "name": "python3"
  },
  "language_info": {
   "codemirror_mode": {
    "name": "ipython",
    "version": 3
   },
   "file_extension": ".py",
   "mimetype": "text/x-python",
   "name": "python",
   "nbconvert_exporter": "python",
   "pygments_lexer": "ipython3",
   "version": "3.12.1"
  }
 },
 "nbformat": 4,
 "nbformat_minor": 2
}
