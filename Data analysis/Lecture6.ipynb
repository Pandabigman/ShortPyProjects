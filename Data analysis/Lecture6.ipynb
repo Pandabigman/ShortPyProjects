{
 "cells": [
  {
   "cell_type": "code",
   "execution_count": 1,
   "metadata": {},
   "outputs": [],
   "source": [
    "import numpy as np\n",
    "from numpy import dot\n",
    "from numpy.linalg import norm\n",
    "from sklearn.metrics.pairwise import cosine_similarity"
   ]
  },
  {
   "cell_type": "code",
   "execution_count": 2,
   "metadata": {},
   "outputs": [],
   "source": [
    "r1 = np.array([1,1,1, 0, 0, 0])\n",
    "r2 = np.array([1,1,1, 0, 0, 1])\n",
    "r3 = np.array([0,0,0, 1, 1, 0])\n",
    "r4 = np.array([0,0,0, 1, 0, 0])\n",
    "r5 = np.array([0,0,1, 1, 0, 0])"
   ]
  },
  {
   "cell_type": "code",
   "execution_count": 3,
   "metadata": {},
   "outputs": [
    {
     "name": "stdout",
     "output_type": "stream",
     "text": [
      "[0.57735027 0.57735027 0.57735027 0.         0.         0.        ]\n",
      "[0.5 0.5 0.5 0.  0.  0.5]\n"
     ]
    }
   ],
   "source": [
    "# Normalisation\n",
    "r1 = r1/norm(r1)\n",
    "r2 = r2/norm(r2)\n",
    "r3 = r3/norm(r3)\n",
    "r4 = r4/norm(r4)\n",
    "r5 = r5/norm(r5)\n",
    "print(r1)\n",
    "print(r2)"
   ]
  },
  {
   "cell_type": "code",
   "execution_count": 4,
   "metadata": {},
   "outputs": [
    {
     "data": {
      "text/plain": [
       "0.8660254037844388"
      ]
     },
     "execution_count": 4,
     "metadata": {},
     "output_type": "execute_result"
    }
   ],
   "source": [
    "# dot product\n",
    "dot(r1, r2)"
   ]
  },
  {
   "cell_type": "code",
   "execution_count": 5,
   "metadata": {},
   "outputs": [
    {
     "data": {
      "text/plain": [
       "array([[0.8660254]])"
      ]
     },
     "execution_count": 5,
     "metadata": {},
     "output_type": "execute_result"
    }
   ],
   "source": [
    "# Using the cosine similarity function\n",
    "# we get the same answer.\n",
    "cosine_similarity(r1.reshape(1,6), r2.reshape(1, 6))"
   ]
  },
  {
   "cell_type": "code",
   "execution_count": 6,
   "metadata": {},
   "outputs": [
    {
     "data": {
      "text/plain": [
       "array([[0.70710678]])"
      ]
     },
     "execution_count": 6,
     "metadata": {},
     "output_type": "execute_result"
    }
   ],
   "source": [
    "u1 = np.array([1,1,0, 1, -1])\n",
    "u2 = np.array([-1,0,-1, 1, 1])\n",
    "# f1 is Adventure feature\n",
    "# f2 - Action is the same array\n",
    "f1 = np.array([1,1,0, 0, 0])\n",
    "f2 = f1\n",
    "# f3 is Science Fiction feature\n",
    "f3 = np.array([1,1,0, 0, 1])\n",
    "f4 = np.array([0,0,0, 1, 1])\n",
    "f5 = np.array([0,0, 1, 0, 0])\n",
    "f6 = np.array([0,1,0, 0, 0])\n",
    "# compute cosine similarities of u1 and u2 with the feature vectors\n",
    "cosine_similarity(u1.reshape(1,5), f1.reshape(1, 5))"
   ]
  },
  {
   "cell_type": "code",
   "execution_count": 7,
   "metadata": {},
   "outputs": [
    {
     "data": {
      "text/plain": [
       "array([[-0.35355339]])"
      ]
     },
     "execution_count": 7,
     "metadata": {},
     "output_type": "execute_result"
    }
   ],
   "source": [
    "cosine_similarity(u2.reshape(1,5), f1.reshape(1, 5))"
   ]
  },
  {
   "cell_type": "code",
   "execution_count": 8,
   "metadata": {},
   "outputs": [
    {
     "name": "stdout",
     "output_type": "stream",
     "text": [
      "[[0.70710678]\n",
      " [0.70710678]\n",
      " [0.28867513]\n",
      " [0.        ]\n",
      " [0.        ]\n",
      " [0.5       ]]\n"
     ]
    }
   ],
   "source": [
    "u1p = [cosine_similarity(u1.reshape(1,5), f.reshape(1, 5))[0] for f in [f1, f2, f3, f4, f5, f6]]\n",
    "u1p = np.array(u1p)\n",
    "print(u1p)"
   ]
  },
  {
   "cell_type": "code",
   "execution_count": 9,
   "metadata": {},
   "outputs": [
    {
     "name": "stdout",
     "output_type": "stream",
     "text": [
      "[[-0.35355339]\n",
      " [-0.35355339]\n",
      " [ 0.        ]\n",
      " [ 0.70710678]\n",
      " [-0.5       ]\n",
      " [ 0.        ]]\n"
     ]
    }
   ],
   "source": [
    "u2p = [cosine_similarity(u2.reshape(1,5), f.reshape(1, 5))[0] for f in [f1, f2, f3, f4, f5, f6]]\n",
    "u2p = np.array(u2p)\n",
    "print(u2p)"
   ]
  },
  {
   "cell_type": "code",
   "execution_count": 10,
   "metadata": {},
   "outputs": [
    {
     "name": "stdout",
     "output_type": "stream",
     "text": [
      "[ 0.08370927  0.08370927  0.48917438  0.48917438 -0.60943791 -0.60943791]\n"
     ]
    }
   ],
   "source": [
    "N = 5 # number of items\n",
    "freq = np.array([2, 2, 3, 3, 1, 1])\n",
    "ri = 1+np.log(freq/N)\n",
    "print(ri)"
   ]
  },
  {
   "cell_type": "code",
   "execution_count": 11,
   "metadata": {},
   "outputs": [
    {
     "name": "stdout",
     "output_type": "stream",
     "text": [
      "[ 0.37908409  0.0235775  -0.08503916  0.48917438  0.69179704]\n",
      "[[0.10727115]]\n"
     ]
    }
   ],
   "source": [
    "# Preference evaluation for user 1\n",
    "v = [dot(ri, r) for r in [r1, r2, r3, r4, r5]]\n",
    "v = np.array(v)\n",
    "print(v)\n",
    "p1 = cosine_similarity(v.reshape(1,5), u1.reshape(1, 5))\n",
    "print(p1)"
   ]
  },
  {
   "cell_type": "code",
   "execution_count": 12,
   "metadata": {},
   "outputs": [
    {
     "name": "stdout",
     "output_type": "stream",
     "text": [
      "[[0.47561555]]\n"
     ]
    }
   ],
   "source": [
    "# Preference  for user 2\n",
    "p2 = cosine_similarity(v.reshape(1,5), u2.reshape(1, 5))\n",
    "print(p2)"
   ]
  },
  {
   "cell_type": "code",
   "execution_count": null,
   "metadata": {},
   "outputs": [],
   "source": []
  }
 ],
 "metadata": {
  "kernelspec": {
   "display_name": "Python 3",
   "language": "python",
   "name": "python3"
  },
  "language_info": {
   "codemirror_mode": {
    "name": "ipython",
    "version": 3
   },
   "file_extension": ".py",
   "mimetype": "text/x-python",
   "name": "python",
   "nbconvert_exporter": "python",
   "pygments_lexer": "ipython3",
   "version": "3.7.0"
  }
 },
 "nbformat": 4,
 "nbformat_minor": 2
}
