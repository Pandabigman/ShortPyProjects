{
 "cells": [
  {
   "cell_type": "markdown",
   "metadata": {},
   "source": [
    "# Markdown mini library\n",
    "\n",
    "Few markdown examples for ease of use and lookups, hopefully it sticks and i don't have to keep checking here\n",
    "\n",
    "## Text Styles\n",
    "### Lists\n",
    " - Normal text\n",
    " - **Bold**\n",
    " - *Italic*\n",
    " - ~~Strikethrough~~\n",
    " - *Underline\n",
    " - ~~Strikethrough and Underline~~\n",
    " - Subscript\t2<sub> 2</sub>\n",
    " - Superscript\t2<sup> 2</sup>\n",
    "  \n",
    "   > Blockquotes are indicated by > characters.\n",
    "\n",
    "## Colors\n",
    "supported colors can be called with backticks\n",
    "The background color is `#ffffff` for light mode and `#000000` for dark mode.\n",
    " - #FF0000 (Red)\n",
    " - #00FF00 (Green)\n",
    "\n",
    "## Links\n",
    " - [Google](https://www.google.com)\n",
    " - [StackOverflow](https://stackoverflow.com)\n",
    " - [Markdown docs](https://www.markdownguide.org/basic-syntax/)\n",
    "\n"
   ]
  }
 ],
 "metadata": {
  "language_info": {
   "name": "python"
  }
 },
 "nbformat": 4,
 "nbformat_minor": 2
}
