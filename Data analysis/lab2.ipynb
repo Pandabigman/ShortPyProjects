{
 "cells": [
  {
   "cell_type": "code",
   "execution_count": 9,
   "metadata": {},
   "outputs": [
    {
     "ename": "ModuleNotFoundError",
     "evalue": "No module named 'bs4'",
     "output_type": "error",
     "traceback": [
      "\u001b[1;31m---------------------------------------------------------------------------\u001b[0m",
      "\u001b[1;31mModuleNotFoundError\u001b[0m                       Traceback (most recent call last)",
      "Cell \u001b[1;32mIn[9], line 1\u001b[0m\n\u001b[1;32m----> 1\u001b[0m \u001b[38;5;28;01mfrom\u001b[39;00m \u001b[38;5;21;01mbs4\u001b[39;00m \u001b[38;5;28;01mimport\u001b[39;00m BeautifulSoup\n\u001b[0;32m      2\u001b[0m \u001b[38;5;66;03m#import requests\u001b[39;00m\n\u001b[0;32m      3\u001b[0m \u001b[38;5;66;03m# import sqlite3\u001b[39;00m\n\u001b[0;32m      4\u001b[0m \u001b[38;5;66;03m# import csv\u001b[39;00m\n\u001b[0;32m      6\u001b[0m \u001b[38;5;28;01mtry\u001b[39;00m:\n",
      "\u001b[1;31mModuleNotFoundError\u001b[0m: No module named 'bs4'"
     ]
    }
   ],
   "source": [
    "from bs4 import BeautifulSoup\n",
    "#import requests\n",
    "# import sqlite3\n",
    "# import csv\n",
    "\n",
    "try:\n",
    "    fhand = open(\"example.html\")\n",
    "    html = fhand.read()\n",
    "    soup = BeautifulSoup(html, 'html.parser')\n",
    "    car_details = soup.find('ul', class_='listing-key-specs ')\n",
    "    split_details = car_details.find('li')\n",
    "    print(split_details)\n",
    "except:\n",
    "    print('File Not Found')\n",
    "finally:\n",
    "    fhand.close()"
   ]
  },
  {
   "cell_type": "code",
   "execution_count": null,
   "metadata": {},
   "outputs": [],
   "source": [
    "from bs4 import BeautifulSoup\n",
    "\n",
    "soup = BeautifulSoup(_______, ’html.parser’)\n",
    "item = soup.find(class_='Supermarkets')\n",
    "list_items = item.find_all(’a’)\n",
    "for each in list_items:\n",
    "    print(each.string)"
   ]
  },
  {
   "cell_type": "code",
   "execution_count": null,
   "metadata": {},
   "outputs": [],
   "source": []
  }
 ],
 "metadata": {
  "kernelspec": {
   "display_name": "Python 3",
   "language": "python",
   "name": "python3"
  },
  "language_info": {
   "codemirror_mode": {
    "name": "ipython",
    "version": 3
   },
   "file_extension": ".py",
   "mimetype": "text/x-python",
   "name": "python",
   "nbconvert_exporter": "python",
   "pygments_lexer": "ipython3",
   "version": "3.11.5"
  }
 },
 "nbformat": 4,
 "nbformat_minor": 2
}
