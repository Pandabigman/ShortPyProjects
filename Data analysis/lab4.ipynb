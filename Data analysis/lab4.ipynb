{
 "cells": [
  {
   "cell_type": "markdown",
   "metadata": {},
   "source": [
    "# Distributions and Confidence Imtervals\n"
   ]
  },
  {
   "cell_type": "code",
   "execution_count": null,
   "metadata": {},
   "outputs": [
    {
     "data": {
      "text/plain": [
       "(array([1., 0., 1., 0., 0., 1., 0., 1., 0., 1.]),\n",
       " array([155., 157., 159., 161., 163., 165., 167., 169., 171., 173., 175.]),\n",
       " <BarContainer object of 10 artists>)"
      ]
     },
     "execution_count": 13,
     "metadata": {},
     "output_type": "execute_result"
    },
    {
     "data": {
      "image/png": "[encoded data removed]",
      "text/plain": [
       "<Figure size 640x480 with 1 Axes>"
      ]
     },
     "metadata": {},
     "output_type": "display_data"
    }
   ],
   "source": [
    "import numpy as np\n",
    "import matplotlib.pyplot as plt\n",
    "import pandas as pd\n",
    "import scipy.stats as st\n",
    "import numpy.random as nr\n",
    "\n",
    "\n",
    "heights= np.array([165, 170, 155, 175, 160])\n",
    "\n",
    "# Sample mean\n",
    "mean = np.mean(heights)\n",
    "# Sample standard deviation\n",
    "std_dev = np.std(heights)\n",
    "# Confidence interval\n",
    "confidence_interval = 1.95 * std_dev / np.sqrt(len(heights))\n",
    "# Create a histogram of the heights\n",
    "# plt.hist(heights, bins=5, density=True)\n",
    "# plt.xlabel('Height (cm)')\n",
    "# plt.ylabel('Probability')\n",
    "# plt.title(f'Height distribution with mean={mean:.2f}, std_dev={std_dev:.2f}, CI={confidence_interval:.2f}')\n",
    "# plt.show(\n",
    "\n",
    "plt.hist(heights, bins=10, color='lightcoral', alpha=0.7, label='HeightSamples')\n",
    "\n"
   ]
  },
  {
   "cell_type": "code",
   "execution_count": 12,
   "metadata": {},
   "outputs": [
    {
     "name": "stdout",
     "output_type": "stream",
     "text": [
      "(158.8020496769544, 171.1979503230456)\n",
      "6.166441437328339\n"
     ]
    }
   ],
   "source": [
    "z_critic = st.norm.ppf(0.975)#5% significance\n",
    "err_margin = z_critic*std_dev/np.sqrt(len(heights))\n",
    "c_int = (mean-err_margin, mean+err_margin)\n",
    "print(c_int)\n",
    "print (confidence_interval)"
   ]
  },
  {
   "cell_type": "code",
   "execution_count": 14,
   "metadata": {},
   "outputs": [
    {
     "data": {
      "text/plain": [
       "(158.0704808782516, 171.9295191217484)"
      ]
     },
     "execution_count": 14,
     "metadata": {},
     "output_type": "execute_result"
    }
   ],
   "source": [
    "st.norm.interval(confidence=0.95, loc=np.mean(heights), scale=st.sem(heights))"
   ]
  },
  {
   "cell_type": "code",
   "execution_count": null,
   "metadata": {},
   "outputs": [],
   "source": []
  },
  {
   "cell_type": "code",
   "execution_count": null,
   "metadata": {},
   "outputs": [],
   "source": [
    "# confidence interval graph\n"
   ]
  },
  {
   "cell_type": "markdown",
   "metadata": {},
   "source": [
    "## Calculating the confidence interval for a mean\n",
    "\n",
    "PART 2\n"
   ]
  },
  {
   "cell_type": "code",
   "execution_count": null,
   "metadata": {},
   "outputs": [],
   "source": [
    "exam_scores=np.array([75, 80, 85, 90, 92, 78, 88, 95, 79, 82])\n",
    "\n",
    "# Sample mean\n",
    "mean_exam = np.mean(exam_scores)\n",
    "# Sample standard deviation\n",
    "std_dev = np.std(exam_scores)"
   ]
  },
  {
   "cell_type": "markdown",
   "metadata": {},
   "source": [
    "## Calculating confidence intervals using simumations\n"
   ]
  },
  {
   "cell_type": "code",
   "execution_count": 18,
   "metadata": {},
   "outputs": [
    {
     "data": {
      "image/png": "[encoded data removed]",
      "text/plain": [
       "<Figure size 900x600 with 1 Axes>"
      ]
     },
     "metadata": {},
     "output_type": "display_data"
    },
    {
     "name": "stdout",
     "output_type": "stream",
     "text": [
      "Empirical 90% confidence interval:  [23. 35.]\n",
      "Empirical 95% confidence interval:  [23.    36.525]\n"
     ]
    }
   ],
   "source": [
    "import numpy as np\n",
    "import numpy.random as nr\n",
    "import matplotlib.pyplot as plt\n",
    "import pandas as pd\n",
    "import scipy.stats as st\n",
    "\n",
    "def conf_interval_by_sim(n=100):\n",
    "    dist = nr.binomial(n=n, p=0.3, size = n)\n",
    "    ser = pd.Series(dist)\n",
    "    fig = plt.figure(1, figsize=(9, 6))\n",
    "    ax = fig.gca()\n",
    "    ser.hist(ax = ax, bins = 150)\n",
    "    ax.set_title('Frequency of Binomial distribution')\n",
    "    ax.set_ylabel('Frequency')\n",
    "    plt.show()\n",
    "    ci1 = np.percentile(dist, [5.0, 95.0])\n",
    "    ci2 = np.percentile(dist, [2.5, 97.5])\n",
    "    return (ci1, ci2)\n",
    "n = 100\n",
    "c = conf_interval_by_sim(n)\n",
    "print('Empirical 90% confidence interval: ', c[0])\n",
    "print('Empirical 95% confidence interval: ', c[1])"
   ]
  },
  {
   "cell_type": "code",
   "execution_count": null,
   "metadata": {},
   "outputs": [],
   "source": [
    "def sim_ppv():\n",
    "    a= random.uniform(0,10)\n",
    "    if a<5:\n",
    "        return 0.5\n",
    "    elif 4<a>8:\n",
    "        return 0.3\n",
    "    else:\n",
    "        return 0.2\n",
    "ppv = sim_ppv()\n",
    "print(ppv.eval)"
   ]
  },
  {
   "cell_type": "code",
   "execution_count": null,
   "metadata": {},
   "outputs": [],
   "source": [
    "def simulate_customer_visits(n_samples=1):\n",
    "    if n_samples <= 0:\n",
    "        return []\n",
    "    return np.random.normal(600, 50, size=n_samples)"
   ]
  }
 ],
 "metadata": {
  "kernelspec": {
   "display_name": "Python 3",
   "language": "python",
   "name": "python3"
  },
  "language_info": {
   "codemirror_mode": {
    "name": "ipython",
    "version": 3
   },
   "file_extension": ".py",
   "mimetype": "text/x-python",
   "name": "python",
   "nbconvert_exporter": "python",
   "pygments_lexer": "ipython3",
   "version": "3.12.1"
  }
 },
 "nbformat": 4,
 "nbformat_minor": 2
}
